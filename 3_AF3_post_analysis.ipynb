{
  "cells": [
    {
      "cell_type": "markdown",
      "source": [
        "Get prediction results"
      ],
      "metadata": {
        "id": "CKMRIkPPN8vl"
      },
      "id": "CKMRIkPPN8vl"
    },
    {
      "cell_type": "code",
      "source": [
        "!wget \"https://zenodo.org/record/14941455/files/AF3_out.zip\"\n",
        "!unzip AF3_out.zip"
      ],
      "metadata": {
        "id": "epmDF7qPOA9w"
      },
      "id": "epmDF7qPOA9w",
      "execution_count": null,
      "outputs": []
    },
    {
      "cell_type": "code",
      "execution_count": 5,
      "id": "639bd45e-3f61-4f9d-9efb-52a370058fcd",
      "metadata": {
        "tags": [],
        "id": "639bd45e-3f61-4f9d-9efb-52a370058fcd"
      },
      "outputs": [],
      "source": [
        "import pandas as pd\n",
        "import glob, os\n",
        "import json\n",
        "import datetime as dt"
      ]
    },
    {
      "cell_type": "markdown",
      "id": "91b6aca8-566f-4614-89a5-5d2b163308c6",
      "metadata": {
        "id": "91b6aca8-566f-4614-89a5-5d2b163308c6"
      },
      "source": [
        "# Define a function to extract ipTM and pTM scores"
      ]
    },
    {
      "cell_type": "code",
      "execution_count": 7,
      "id": "7323d5b3-eb60-43aa-a0d2-17028187c35b",
      "metadata": {
        "tags": [],
        "id": "7323d5b3-eb60-43aa-a0d2-17028187c35b"
      },
      "outputs": [],
      "source": [
        "def extract_af3_results(af3_out_dir, proteinNM1 = \"Pathogen\", proteinNM2 = \"Plant\", save_csv_path=\"./\"):\n",
        "    \"\"\"\n",
        "    extract ipTM and pTM scores from every '*_summary_confidences.json'\n",
        "\n",
        "    input:\n",
        "       1) af3_out_dir, which is the root directory of af3 results,  # example './dimer_af3_out'\n",
        "       2) proteinNM1 is the general name for the first proteins in the prepared json file for running AlphaFold 3.\n",
        "       3) proteinNM2 is the general name for the second proteins in the prepared json file for running AlphaFold 3.\n",
        "       4) save_csv_path is a .csv path you want to save the alphafold3 results\n",
        "\n",
        "    output:\n",
        "       a csv file collected all ipTM and pTM scores for all protein-protein pairs in the prepared json file for running AlphaFold 3.\n",
        "\n",
        "    \"\"\"\n",
        "\n",
        "    json_path = os.path.join(af3_out_dir, '*/*/*_summary_confidences.json')\n",
        "    files = glob.glob(json_path, recursive=True)\n",
        "\n",
        "    # an empty list to store all lists of iptm and ptm scores\n",
        "    results = []\n",
        "\n",
        "    for file in files:\n",
        "\n",
        "        # an empty list to store iptm and ptm scores for each file\n",
        "        result =[]\n",
        "\n",
        "        # get the protein-protein pair name #change to fit your needs!\n",
        "        split_res = file.split(\"/\")[-1].split(\"_summ\")[0].split(\"_\")\n",
        "        prt_nm1 = split_res[0] + \"_\" + split_res[1]\n",
        "        prt_nm2 = split_res[2] + \"_\" + split_res[3]\n",
        "\n",
        "        # add the protein-protein pair name to the result list\n",
        "        result.append(prt_nm1)\n",
        "        result.append(prt_nm2)\n",
        "\n",
        "        # open file and load as json ojbect\n",
        "        with open(file) as f:\n",
        "            data = json.load(f)\n",
        "\n",
        "            # add iptm score\n",
        "            result.append(data['iptm'])\n",
        "\n",
        "            # add ptm score\n",
        "            result.append(data['ptm'])\n",
        "\n",
        "            # add the ranking score (0.8iptm+0.2ptm)\n",
        "            result.append(round(float(data['iptm'])*0.8 + float(data['ptm'])*0.2, 3))\n",
        "\n",
        "        # add a result(ppnm, iptm, ptm, 0.8iptm+0.2ptm) list to the results list\n",
        "        results.append(result)\n",
        "\n",
        "    # convert results to pandas DataFrame\n",
        "    df = pd.DataFrame(results, columns=[proteinNM1, proteinNM2, \"ipTM\", \"pTM\", \"0.8ipTM+0.2pTM\"])\n",
        "\n",
        "    # sort values by the ranking score\n",
        "    df = df.sort_values(by=[\"0.8ipTM+0.2pTM\"], ascending=False)\n",
        "\n",
        "    # save results as csv\n",
        "    df.to_csv(save_csv_path, index=False)\n",
        "\n",
        "    return df"
      ]
    },
    {
      "cell_type": "code",
      "execution_count": null,
      "id": "a4edb9c0-dd64-45ac-b116-2e8b0382499f",
      "metadata": {
        "tags": [],
        "id": "a4edb9c0-dd64-45ac-b116-2e8b0382499f"
      },
      "outputs": [],
      "source": [
        "extract_af3_results('AF3_out', proteinNM1 = \"BDM\", proteinNM2 = \"ZCY\", save_csv_path=\"./summary.csv\")"
      ]
    },
    {
      "cell_type": "markdown",
      "source": [],
      "metadata": {
        "id": "vM38_zsFN54G"
      },
      "id": "vM38_zsFN54G"
    },
    {
      "cell_type": "code",
      "execution_count": null,
      "id": "5a32987d-0fa3-4a74-b0cc-29ee14be7d04",
      "metadata": {
        "id": "5a32987d-0fa3-4a74-b0cc-29ee14be7d04"
      },
      "outputs": [],
      "source": []
    }
  ],
  "metadata": {
    "kernelspec": {
      "display_name": "Yolo-v8.2",
      "language": "python",
      "name": "yolo-v8.2"
    },
    "language_info": {
      "codemirror_mode": {
        "name": "ipython",
        "version": 3
      },
      "file_extension": ".py",
      "mimetype": "text/x-python",
      "name": "python",
      "nbconvert_exporter": "python",
      "pygments_lexer": "ipython3",
      "version": "3.12.3"
    },
    "colab": {
      "provenance": []
    }
  },
  "nbformat": 4,
  "nbformat_minor": 5
}